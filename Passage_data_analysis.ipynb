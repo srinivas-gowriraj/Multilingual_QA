{
  "nbformat": 4,
  "nbformat_minor": 0,
  "metadata": {
    "colab": {
      "provenance": []
    },
    "kernelspec": {
      "name": "python3",
      "display_name": "Python 3"
    },
    "language_info": {
      "name": "python"
    }
  },
  "cells": [
    {
      "cell_type": "code",
      "execution_count": null,
      "metadata": {
        "id": "fQBHLmVCF9Lv"
      },
      "outputs": [],
      "source": [
        "# Importing required libraries\n",
        "import pandas as pd\n",
        "import matplotlib.pyplot as plt\n",
        "\n",
        "passage_data = pd.read_csv('/content/passages.csv', encoding='utf-8', delimiter=None) # Reading the paragraph corpus"
      ]
    },
    {
      "cell_type": "code",
      "source": [
        "# Reading the passage text\n",
        "passage_data['pasage_text'] = passage_data['passage'].apply(lambda text: text.split(\"//\")[0])"
      ],
      "metadata": {
        "id": "1lvRpcoDGN_j"
      },
      "execution_count": null,
      "outputs": []
    },
    {
      "cell_type": "code",
      "source": [
        "passage_data[\"paragraph_len\"] = passage_data['pasage_text'].apply(lambda x: len(x.split(\" \")))"
      ],
      "metadata": {
        "id": "CT7YlTRwNMAg"
      },
      "execution_count": null,
      "outputs": []
    },
    {
      "cell_type": "code",
      "source": [
        "passage_data[\"paragraph_len\"].hist()\n",
        "plt.title(\"Distribution of the Paragraph Length\")\n",
        "plt.ylabel(\"Count of Paragraphs having the Length\")\n",
        "plt.xlabel(\"Paragraph Length\")\n",
        "plt.show() "
      ],
      "metadata": {
        "colab": {
          "base_uri": "https://localhost:8080/",
          "height": 295
        },
        "id": "-jOo2L_kIWVf",
        "outputId": "c37925fb-b898-4c5f-a1f3-56a63f0c3890"
      },
      "execution_count": null,
      "outputs": [
        {
          "output_type": "display_data",
          "data": {
            "text/plain": [
              "<Figure size 432x288 with 1 Axes>"
            ],
            "image/png": "[encoded data removed]"
          },
          "metadata": {
            "needs_background": "light"
          }
        }
      ]
    },
    {
      "cell_type": "code",
      "source": [
        "passage_data['lan'] = passage_data['passage'].apply(lambda text: text.split(\"//\")[-1].split(\"-\")[0])"
      ],
      "metadata": {
        "id": "biF_ESjUTXP6"
      },
      "execution_count": null,
      "outputs": []
    },
    {
      "cell_type": "code",
      "source": [
        "lan_counts = passage_data['lan'].value_counts()\n",
        "lan_counts"
      ],
      "metadata": {
        "colab": {
          "base_uri": "https://localhost:8080/"
        },
        "id": "1t4avJ_hUkPr",
        "outputId": "9311ec5f-4ed0-4594-c1d1-ee8aef6089cb"
      },
      "execution_count": null,
      "outputs": [
        {
          "output_type": "execute_result",
          "data": {
            "text/plain": [
              " fr    10967\n",
              " vi     4862\n",
              "Name: lan, dtype: int64"
            ]
          },
          "metadata": {},
          "execution_count": 46
        }
      ]
    },
    {
      "cell_type": "code",
      "source": [
        "\n",
        "lan_counts.plot(kind='pie',labels=[\"french\",\"vietnamese\"],autopct='%1.2f%%')\n",
        "plt.legend()"
      ],
      "metadata": {
        "id": "-Z1XKHszOaVj",
        "colab": {
          "base_uri": "https://localhost:8080/",
          "height": 266
        },
        "outputId": "43a336e5-ab3e-4a1f-937e-99dfb536fad4"
      },
      "execution_count": null,
      "outputs": [
        {
          "output_type": "execute_result",
          "data": {
            "text/plain": [
              "<matplotlib.legend.Legend at 0x7fb1ea4237f0>"
            ]
          },
          "metadata": {},
          "execution_count": 53
        },
        {
          "output_type": "display_data",
          "data": {
            "text/plain": [
              "<Figure size 432x288 with 1 Axes>"
            ],
            "image/png": "[encoded data removed]"
          },
          "metadata": {}
        }
      ]
    },
    {
      "cell_type": "code",
      "source": [],
      "metadata": {
        "id": "go6G0MIlTc49"
      },
      "execution_count": null,
      "outputs": []
    }
  ]
}